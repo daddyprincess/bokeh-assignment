{
 "cells": [
  {
   "cell_type": "markdown",
   "id": "658db326-75e6-478f-9268-7309c2603fe8",
   "metadata": {},
   "source": [
    "## Q1. How can you create a Bokeh plot using Python code?"
   ]
  },
  {
   "cell_type": "code",
   "execution_count": null,
   "id": "1281ea23-9669-4315-8ec2-d9a0ebb6237a",
   "metadata": {},
   "outputs": [],
   "source": [
    "1.Install Bokeh: First, make sure you have Bokeh installed in your Python environment. You can install it using pip:"
   ]
  },
  {
   "cell_type": "code",
   "execution_count": 1,
   "id": "975698c5-6fe9-4734-a459-a5515cf1a876",
   "metadata": {},
   "outputs": [
    {
     "name": "stdout",
     "output_type": "stream",
     "text": [
      "Requirement already satisfied: bokeh in /opt/conda/lib/python3.10/site-packages (3.0.3)\n",
      "Requirement already satisfied: Jinja2>=2.9 in /opt/conda/lib/python3.10/site-packages (from bokeh) (3.1.2)\n",
      "Requirement already satisfied: numpy>=1.11.3 in /opt/conda/lib/python3.10/site-packages (from bokeh) (1.23.5)\n",
      "Requirement already satisfied: pillow>=7.1.0 in /opt/conda/lib/python3.10/site-packages (from bokeh) (9.2.0)\n",
      "Requirement already satisfied: contourpy>=1 in /opt/conda/lib/python3.10/site-packages (from bokeh) (1.0.6)\n",
      "Requirement already satisfied: xyzservices>=2021.09.1 in /opt/conda/lib/python3.10/site-packages (from bokeh) (2022.9.0)\n",
      "Requirement already satisfied: tornado>=5.1 in /opt/conda/lib/python3.10/site-packages (from bokeh) (6.1)\n",
      "Requirement already satisfied: packaging>=16.8 in /opt/conda/lib/python3.10/site-packages (from bokeh) (22.0)\n",
      "Requirement already satisfied: PyYAML>=3.10 in /opt/conda/lib/python3.10/site-packages (from bokeh) (6.0)\n",
      "Requirement already satisfied: pandas>=1.2 in /opt/conda/lib/python3.10/site-packages (from bokeh) (1.5.2)\n",
      "Requirement already satisfied: MarkupSafe>=2.0 in /opt/conda/lib/python3.10/site-packages (from Jinja2>=2.9->bokeh) (2.1.1)\n",
      "Requirement already satisfied: python-dateutil>=2.8.1 in /opt/conda/lib/python3.10/site-packages (from pandas>=1.2->bokeh) (2.8.2)\n",
      "Requirement already satisfied: pytz>=2020.1 in /opt/conda/lib/python3.10/site-packages (from pandas>=1.2->bokeh) (2022.6)\n",
      "Requirement already satisfied: six>=1.5 in /opt/conda/lib/python3.10/site-packages (from python-dateutil>=2.8.1->pandas>=1.2->bokeh) (1.16.0)\n",
      "Note: you may need to restart the kernel to use updated packages.\n"
     ]
    }
   ],
   "source": [
    "pip install bokeh\n"
   ]
  },
  {
   "cell_type": "code",
   "execution_count": null,
   "id": "4193577c-eb9d-49b6-aa38-013cc415d837",
   "metadata": {},
   "outputs": [],
   "source": [
    "2.Import Bokeh Libraries: Import the necessary Bokeh libraries in your Python script or Jupyter Notebook:"
   ]
  },
  {
   "cell_type": "code",
   "execution_count": 3,
   "id": "85f20048-55cd-4d02-aa6b-21733b37f217",
   "metadata": {},
   "outputs": [],
   "source": [
    "from bokeh.plotting import figure, show"
   ]
  },
  {
   "cell_type": "code",
   "execution_count": null,
   "id": "30f95269-b991-4197-adeb-f72fedb2a9b0",
   "metadata": {},
   "outputs": [],
   "source": [
    "3.Create a Figure: Create a Bokeh figure by specifying various plot properties such as the title, axes labels, and plot\n",
    " dimensions. For example:"
   ]
  },
  {
   "cell_type": "code",
   "execution_count": 4,
   "id": "3a5f5ba6-afa7-4163-9f1f-db75fa463dc4",
   "metadata": {},
   "outputs": [],
   "source": [
    "p = figure(title=\"My Bokeh Plot\", x_axis_label=\"X-axis\", y_axis_label=\"Y-axis\", width=400, height=400)"
   ]
  },
  {
   "cell_type": "code",
   "execution_count": null,
   "id": "53b2a2d7-8ff3-4505-836f-0d2c1768c16d",
   "metadata": {},
   "outputs": [],
   "source": [
    "4.Add Data: Add your data to the figure using Bokeh's glyph methods like circle, line, square, etc. Here's an example of\n",
    " adding a scatter plot:"
   ]
  },
  {
   "cell_type": "code",
   "execution_count": 5,
   "id": "204889a2-c1e2-4d10-8edb-8e2309c864ea",
   "metadata": {},
   "outputs": [
    {
     "data": {
      "text/html": [
       "<div style=\"display: table;\"><div style=\"display: table-row;\"><div style=\"display: table-cell;\"><b title=\"bokeh.models.renderers.glyph_renderer.GlyphRenderer\">GlyphRenderer</b>(</div><div style=\"display: table-cell;\">id&nbsp;=&nbsp;'p1054', <span id=\"p1073\" style=\"cursor: pointer;\">&hellip;)</span></div></div><div class=\"p1072\" style=\"display: none;\"><div style=\"display: table-cell;\"></div><div style=\"display: table-cell;\">coordinates&nbsp;=&nbsp;None,</div></div><div class=\"p1072\" style=\"display: none;\"><div style=\"display: table-cell;\"></div><div style=\"display: table-cell;\">data_source&nbsp;=&nbsp;ColumnDataSource(id='p1048', ...),</div></div><div class=\"p1072\" style=\"display: none;\"><div style=\"display: table-cell;\"></div><div style=\"display: table-cell;\">glyph&nbsp;=&nbsp;Circle(id='p1051', ...),</div></div><div class=\"p1072\" style=\"display: none;\"><div style=\"display: table-cell;\"></div><div style=\"display: table-cell;\">group&nbsp;=&nbsp;None,</div></div><div class=\"p1072\" style=\"display: none;\"><div style=\"display: table-cell;\"></div><div style=\"display: table-cell;\">hover_glyph&nbsp;=&nbsp;None,</div></div><div class=\"p1072\" style=\"display: none;\"><div style=\"display: table-cell;\"></div><div style=\"display: table-cell;\">js_event_callbacks&nbsp;=&nbsp;{},</div></div><div class=\"p1072\" style=\"display: none;\"><div style=\"display: table-cell;\"></div><div style=\"display: table-cell;\">js_property_callbacks&nbsp;=&nbsp;{},</div></div><div class=\"p1072\" style=\"display: none;\"><div style=\"display: table-cell;\"></div><div style=\"display: table-cell;\">level&nbsp;=&nbsp;'glyph',</div></div><div class=\"p1072\" style=\"display: none;\"><div style=\"display: table-cell;\"></div><div style=\"display: table-cell;\">muted&nbsp;=&nbsp;False,</div></div><div class=\"p1072\" style=\"display: none;\"><div style=\"display: table-cell;\"></div><div style=\"display: table-cell;\">muted_glyph&nbsp;=&nbsp;Circle(id='p1053', ...),</div></div><div class=\"p1072\" style=\"display: none;\"><div style=\"display: table-cell;\"></div><div style=\"display: table-cell;\">name&nbsp;=&nbsp;None,</div></div><div class=\"p1072\" style=\"display: none;\"><div style=\"display: table-cell;\"></div><div style=\"display: table-cell;\">nonselection_glyph&nbsp;=&nbsp;Circle(id='p1052', ...),</div></div><div class=\"p1072\" style=\"display: none;\"><div style=\"display: table-cell;\"></div><div style=\"display: table-cell;\">selection_glyph&nbsp;=&nbsp;'auto',</div></div><div class=\"p1072\" style=\"display: none;\"><div style=\"display: table-cell;\"></div><div style=\"display: table-cell;\">subscribed_events&nbsp;=&nbsp;PropertyValueSet(),</div></div><div class=\"p1072\" style=\"display: none;\"><div style=\"display: table-cell;\"></div><div style=\"display: table-cell;\">syncable&nbsp;=&nbsp;True,</div></div><div class=\"p1072\" style=\"display: none;\"><div style=\"display: table-cell;\"></div><div style=\"display: table-cell;\">tags&nbsp;=&nbsp;[],</div></div><div class=\"p1072\" style=\"display: none;\"><div style=\"display: table-cell;\"></div><div style=\"display: table-cell;\">view&nbsp;=&nbsp;CDSView(id='p1055', ...),</div></div><div class=\"p1072\" style=\"display: none;\"><div style=\"display: table-cell;\"></div><div style=\"display: table-cell;\">visible&nbsp;=&nbsp;True,</div></div><div class=\"p1072\" style=\"display: none;\"><div style=\"display: table-cell;\"></div><div style=\"display: table-cell;\">x_range_name&nbsp;=&nbsp;'default',</div></div><div class=\"p1072\" style=\"display: none;\"><div style=\"display: table-cell;\"></div><div style=\"display: table-cell;\">y_range_name&nbsp;=&nbsp;'default')</div></div></div>\n",
       "<script>\n",
       "(function() {\n",
       "  let expanded = false;\n",
       "  const ellipsis = document.getElementById(\"p1073\");\n",
       "  ellipsis.addEventListener(\"click\", function() {\n",
       "    const rows = document.getElementsByClassName(\"p1072\");\n",
       "    for (let i = 0; i < rows.length; i++) {\n",
       "      const el = rows[i];\n",
       "      el.style.display = expanded ? \"none\" : \"table-row\";\n",
       "    }\n",
       "    ellipsis.innerHTML = expanded ? \"&hellip;)\" : \"&lsaquo;&lsaquo;&lsaquo;\";\n",
       "    expanded = !expanded;\n",
       "  });\n",
       "})();\n",
       "</script>\n"
      ],
      "text/plain": [
       "GlyphRenderer(id='p1054', ...)"
      ]
     },
     "execution_count": 5,
     "metadata": {},
     "output_type": "execute_result"
    }
   ],
   "source": [
    "x_data = [1, 2, 3, 4, 5]\n",
    "y_data = [10, 20, 15, 30, 25]\n",
    "\n",
    "p.circle(x_data, y_data, size=10, color=\"blue\", legend_label=\"Scatter Points\")\n"
   ]
  },
  {
   "cell_type": "code",
   "execution_count": null,
   "id": "04722862-ac58-4bd0-ae47-49c469bb7235",
   "metadata": {},
   "outputs": [],
   "source": [
    "5.Customize the Plot: Customize the plot further by modifying its appearance, adding legends, tooltips, and other plot\n",
    " elements."
   ]
  },
  {
   "cell_type": "code",
   "execution_count": null,
   "id": "2bc64117-e3eb-45ad-be9b-02e7206c4fbe",
   "metadata": {},
   "outputs": [],
   "source": [
    "6.Show the Plot: Finally, use the show function to display the plot:"
   ]
  },
  {
   "cell_type": "code",
   "execution_count": 6,
   "id": "93b4fe0f-416e-44fc-bfe2-e0106a056ffa",
   "metadata": {},
   "outputs": [],
   "source": [
    "show(p)"
   ]
  },
  {
   "cell_type": "code",
   "execution_count": 8,
   "id": "0a36cdc0-6bd6-4b6f-8b15-e77ee9771e5f",
   "metadata": {},
   "outputs": [],
   "source": [
    "from bokeh.plotting import figure, show\n",
    "\n",
    "# Create a Bokeh figure\n",
    "p = figure(title=\"Scatter Plot Example\", x_axis_label=\"X-axis\", y_axis_label=\"Y-axis\", width=400, height=400)\n",
    "\n",
    "# Add data to the figure\n",
    "x_data = [1, 2, 3, 4, 5]\n",
    "y_data = [10, 20, 15, 30, 25]\n",
    "p.circle(x_data, y_data, size=10, color=\"blue\", legend_label=\"Scatter Points\")\n",
    "\n",
    "# Show the plot\n",
    "show(p)"
   ]
  },
  {
   "cell_type": "markdown",
   "id": "73b5c9e9-3570-48fc-83ad-e7a6ba2b746b",
   "metadata": {},
   "source": [
    "## Q2. What are glyphs in Bokeh, and how can you add them to a Bokeh plot? Explain with an example."
   ]
  },
  {
   "cell_type": "code",
   "execution_count": null,
   "id": "01568913-ef41-4772-943c-de0484a71759",
   "metadata": {},
   "outputs": [],
   "source": [
    "In Bokeh, glyphs are visual markers that represent data points in a plot. Glyphs are used to display data on a plot by\n",
    "rendering shapes, lines, or other graphical elements at specific data coordinates. Bokeh provides a variety of glyph \n",
    "types to represent different types of data, including circles, lines, squares, triangles, and more.\n",
    "\n",
    "You can add glyphs to a Bokeh plot using glyph methods provided by the figure object. Here's a general overview of how to\n",
    "add glyphs to a Bokeh plot:\n",
    "\n",
    "1.Create a Bokeh Figure: Create a Bokeh figure using the figure function, specifying properties like title, axis labels,\n",
    " and plot dimensions.\n",
    "\n",
    "2.Add Glyphs: Use the glyph methods to add specific glyphs to the figure. The choice of glyph method depends on the type\n",
    " of data you want to represent.\n",
    "\n",
    "3.Customize Glyphs: You can customize the appearance of glyphs by setting attributes such as size, color, transparency,\n",
    " and more.\n",
    "\n",
    "4.Show the Plot: Finally, use the show function to display the plot."
   ]
  },
  {
   "cell_type": "code",
   "execution_count": 9,
   "id": "ff17656e-2224-4df6-a2b2-0bed71187b80",
   "metadata": {},
   "outputs": [],
   "source": [
    "from bokeh.plotting import figure, show\n",
    "\n",
    "# Create a Bokeh figure\n",
    "p = figure(title=\"Scatter Plot Example\", x_axis_label=\"X-axis\", y_axis_label=\"Y-axis\", width=400, height=400)\n",
    "\n",
    "# Add data to the figure using circles as glyphs\n",
    "x_data = [1, 2, 3, 4, 5]\n",
    "y_data = [10, 20, 15, 30, 25]\n",
    "p.circle(x_data, y_data, size=10, color=\"blue\", legend_label=\"Scatter Points\")\n",
    "\n",
    "# Show the plot\n",
    "show(p)"
   ]
  },
  {
   "cell_type": "markdown",
   "id": "df515529-901a-4023-ac0a-d10d500c9e05",
   "metadata": {},
   "source": [
    "## Q3. How can you customize the appearance of a Bokeh plot, including the axes, title, and legend?"
   ]
  },
  {
   "cell_type": "code",
   "execution_count": 11,
   "id": "535fe28c-c5aa-469b-9e46-155b4ca5d97a",
   "metadata": {},
   "outputs": [],
   "source": [
    "from bokeh.plotting import figure, show\n",
    "\n",
    "# Create a Bokeh figure\n",
    "p = figure(\n",
    "    title=\"Customized Bokeh Plot\",\n",
    "    x_axis_label=\"X-axis\",\n",
    "    y_axis_label=\"Y-axis\",\n",
    "    width=400,\n",
    "    height=400,\n",
    "    background_fill_color=\"lightgray\",  # Set background color\n",
    "    border_fill_color=\"white\",         # Set border color\n",
    ")\n",
    "\n",
    "# Customize the title and axis labels\n",
    "p.title.text_font_size = \"16pt\"\n",
    "p.title.align = \"center\"\n",
    "p.xaxis.axis_label_text_font_size = \"14pt\"\n",
    "p.yaxis.axis_label_text_font_size = \"14pt\"\n",
    "\n",
    "# Add data with legend labels\n",
    "x_data = [1, 2, 3, 4, 5]\n",
    "y_data = [10, 20, 15, 30, 25]\n",
    "p.circle(x_data, y_data, size=10, color=\"blue\", legend_label=\"Scatter Points\")\n",
    "\n",
    "# Customize the legend\n",
    "p.legend.location = \"top_left\"\n",
    "p.legend.label_text_font_size = \"12pt\"\n",
    "p.legend.background_fill_alpha = 0.8\n",
    "p.legend.border_line_color = \"black\"\n",
    "\n",
    "# Customize gridlines and axes\n",
    "p.grid.grid_line_color = \"white\"\n",
    "p.xaxis.axis_line_color = \"red\"\n",
    "p.yaxis.axis_line_color = \"green\"\n",
    "\n",
    "# Show the plot\n",
    "show(p)"
   ]
  },
  {
   "cell_type": "markdown",
   "id": "51aa8bf3-1850-479f-8c4d-edbc0933dbff",
   "metadata": {},
   "source": [
    "## Q4. What is a Bokeh server, and how can you use it to create interactive plots that can be updated in real time?"
   ]
  },
  {
   "cell_type": "code",
   "execution_count": null,
   "id": "be49c870-c0d3-4369-9a84-f0d121a6d261",
   "metadata": {},
   "outputs": [],
   "source": [
    "A Bokeh server is a component of the Bokeh library that allows you to create interactive, web-based data applications\n",
    "with real-time updates. Bokeh servers enable you to build dynamic web applications that respond to user input and update\n",
    "plots and data in real time, all while leveraging Bokeh's rich interactive visualization capabilities.\n",
    "\n",
    "Key features and concepts of Bokeh servers:\n",
    "\n",
    "1.Interactive Plots: With Bokeh servers, you can create plots and visualizations that respond to user interactions such\n",
    " as clicks, selections, and changes to input widgets.\n",
    "\n",
    "2.Server-Side Callbacks: Bokeh server applications use server-side callbacks, which are Python functions that are \n",
    " executed on the server in response to user events. These callbacks can update the plot data, properties, and layout.\n",
    "\n",
    "3.WebSocket Communication: Bokeh servers use WebSocket communication to establish a connection between the web browser \n",
    " and the Python server. This enables real-time updates without the need for page reloading.\n",
    "\n",
    "4.Widgets: Bokeh provides a range of interactive widgets (e.g., sliders, buttons, dropdowns) that you can incorporate \n",
    " into your applications. These widgets can trigger server-side callbacks and update the plots.\n",
    "\n",
    "5.Layouts: You can create complex layouts that combine multiple plots, widgets, and other HTML elements into a single \n",
    " interactive web application."
   ]
  },
  {
   "cell_type": "code",
   "execution_count": null,
   "id": "efca5a83-6be6-4a11-8a5f-9fa8bb661032",
   "metadata": {},
   "outputs": [],
   "source": [
    "from bokeh.io import curdoc\n",
    "from bokeh.models import Slider\n",
    "from bokeh.plotting import figure\n",
    "from bokeh.layouts import column\n",
    "\n",
    "# Create a Bokeh plot\n",
    "plot = figure(plot_height=300, plot_width=500, title=\"Real-time Updates\")\n",
    "line = plot.line([], [], line_width=2)\n",
    "\n",
    "# Create a slider widget\n",
    "slider = Slider(start=0, end=10, value=5, step=0.1, title=\"Slider\")\n",
    "\n",
    "# Define a callback function to update the plot data\n",
    "def update(attr, old, new):\n",
    "    x = list(range(11))\n",
    "    y = [slider.value * i for i in x]\n",
    "    line.data_source.data = {\"x\": x, \"y\": y}\n",
    "\n",
    "# Attach the callback to the slider widget\n",
    "slider.on_change(\"value\", update)\n",
    "\n",
    "# Create a layout for the application\n",
    "layout = column(slider, plot)\n",
    "\n",
    "# Add the layout to the current document\n",
    "curdoc().add_root(layout)\n"
   ]
  },
  {
   "cell_type": "markdown",
   "id": "2118bfbf-448e-4a6c-8c43-4bb896b41a86",
   "metadata": {},
   "source": [
    "## Q5. How can you embed a Bokeh plot into a web page or dashboard using Flask or Django?"
   ]
  },
  {
   "cell_type": "code",
   "execution_count": null,
   "id": "41652ec6-753f-4378-a793-223eb5b52b93",
   "metadata": {},
   "outputs": [],
   "source": [
    "Using Flask:\n",
    "\n",
    "1.Set Up Flask Application:\n",
    "\n",
    "Create a Flask application by setting up a Python script and defining routes.\n",
    "\n",
    "2.Create Bokeh Plot:\n",
    "\n",
    "Create the Bokeh plot as you normally would using the Bokeh library.\n",
    "\n",
    "3.Export Bokeh Plot:\n",
    "\n",
    "Export the Bokeh plot to an HTML file using bokeh.embed.file_html. This function generates the necessary HTML and \n",
    "JavaScript to render the plot.\n",
    "\n",
    "4.Render in Template:\n",
    "\n",
    "Render the HTML file generated in step 3 inside your Flask template. You can use the Flask render_template function to\n",
    "include the HTML file in an HTML template.\n",
    "\n",
    "5.Serve the Application:\n",
    "\n",
    "Run the Flask application using app.run().\n"
   ]
  },
  {
   "cell_type": "code",
   "execution_count": null,
   "id": "16829ad6-8785-4e6a-8800-778b37d59efd",
   "metadata": {},
   "outputs": [],
   "source": [
    "from flask import Flask, render_template\n",
    "from bokeh.plotting import figure\n",
    "from bokeh.embed import file_html\n",
    "from bokeh.resources import CDN\n",
    "\n",
    "app = Flask(__name__)\n",
    "\n",
    "# Create a Bokeh plot\n",
    "plot = figure(plot_height=300, plot_width=500, title=\"My Bokeh Plot\")\n",
    "plot.circle([1, 2, 3], [4, 5, 6])\n",
    "\n",
    "# Export the Bokeh plot to HTML\n",
    "plot_html = file_html(plot, CDN)\n",
    "\n",
    "@app.route('/')\n",
    "def index():\n",
    "    return render_template('index.html', plot_html=plot_html)\n",
    "\n",
    "if __name__ == '__main__':\n",
    "    app.run(debug=True)\n"
   ]
  },
  {
   "cell_type": "code",
   "execution_count": null,
   "id": "714c1a9a-17bb-4870-ad95-e8ab4a576658",
   "metadata": {},
   "outputs": [],
   "source": [
    "Using Django:\n",
    "\n",
    "1.Set Up Django Application:\n",
    "    ~Create a Django project and app, if you haven't already.\n",
    "\n",
    "2.Create Bokeh Plot:\n",
    "    ~Create the Bokeh plot within your Django app's views or other relevant components.\n",
    "\n",
    "3.Export Bokeh Plot:\n",
    "    ~Export the Bokeh plot to an HTML file using bokeh.embed.file_html.\n",
    "\n",
    "4.Create a Template:\n",
    "    ~Create an HTML template (e.g., 'plot_template.html') that includes a placeholder for the Bokeh plot.\n",
    "\n",
    "5.Pass Data to Template:\n",
    "    ~Pass the plot HTML as context data when rendering the template in your Django view.\n",
    "\n",
    "6.Render in View:\n",
    "    ~Render the template in your Django view and pass the context data.\n",
    "\n",
    "7.Serve the Application:\n",
    "    ~Deploy and run your Django application as usual."
   ]
  },
  {
   "cell_type": "code",
   "execution_count": null,
   "id": "842d0389-1e82-45b9-b59a-7ac2345c6056",
   "metadata": {},
   "outputs": [],
   "source": [
    "from django.shortcuts import render\n",
    "from bokeh.plotting import figure\n",
    "from bokeh.embed import file_html\n",
    "from bokeh.resources import CDN\n",
    "\n",
    "def plot_view(request):\n",
    "    # Create a Bokeh plot\n",
    "    plot = figure(plot_height=300, plot_width=500, title=\"My Bokeh Plot\")\n",
    "    plot.circle([1, 2, 3], [4, 5, 6])\n",
    "\n",
    "    # Export the Bokeh plot to HTML\n",
    "    plot_html = file_html(plot, CDN)\n",
    "\n",
    "    return render(request, 'plot_template.html', {'plot_html': plot_html})"
   ]
  }
 ],
 "metadata": {
  "kernelspec": {
   "display_name": "Python 3 (ipykernel)",
   "language": "python",
   "name": "python3"
  },
  "language_info": {
   "codemirror_mode": {
    "name": "ipython",
    "version": 3
   },
   "file_extension": ".py",
   "mimetype": "text/x-python",
   "name": "python",
   "nbconvert_exporter": "python",
   "pygments_lexer": "ipython3",
   "version": "3.10.8"
  }
 },
 "nbformat": 4,
 "nbformat_minor": 5
}
